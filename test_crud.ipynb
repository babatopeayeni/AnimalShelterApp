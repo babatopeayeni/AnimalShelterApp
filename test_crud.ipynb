{
 "cells": [
  {
   "cell_type": "code",
   "execution_count": 1,
   "id": "e28aba26",
   "metadata": {},
   "outputs": [
    {
     "name": "stdout",
     "output_type": "stream",
     "text": [
      "CREATE result: True\n",
      "READ result: [{'_id': ObjectId('67f1f9601802085ad2195559'), 'animal_id': 'TEST001', 'name': 'Buddy'}]\n",
      "UPDATE modified count: 1\n",
      "After UPDATE: [{'_id': ObjectId('67f1f9601802085ad2195559'), 'animal_id': 'TEST001', 'name': 'BuddyUpdated'}]\n",
      "DELETE removed count: 1\n",
      "After DELETE: []\n"
     ]
    }
   ],
   "source": [
    "from animal_shelter import AnimalShelter\n",
    "\n",
    "# Define your credentials and the Apporto host/port\n",
    "username = \"aacuser\"\n",
    "password = \"SNHU12345\"\n",
    "host = \"nv-desktop-services.apporto.com\"  # Apporto remote host\n",
    "port = 33049  # Apporto port where MongoDB is running\n",
    "\n",
    "# Create an instance of AnimalShelter with the updated connection info\n",
    "shelter = AnimalShelter(username, password, host=host, port=port)\n",
    "\n",
    "# Test CREATE\n",
    "doc_to_insert = {\"animal_id\": \"TEST001\", \"name\": \"Buddy\"}\n",
    "created = shelter.create(doc_to_insert)\n",
    "print(\"CREATE result:\", created)\n",
    "\n",
    "# Test READ\n",
    "found_docs = shelter.read({\"animal_id\": \"TEST001\"})\n",
    "print(\"READ result:\", found_docs)\n",
    "\n",
    "# Test UPDATE\n",
    "update_result = shelter.update(\n",
    "    {\"animal_id\": \"TEST001\"},\n",
    "    {\"$set\": {\"name\": \"BuddyUpdated\"}}\n",
    ")\n",
    "print(\"UPDATE modified count:\", update_result)\n",
    "\n",
    "# Confirm the update\n",
    "updated_docs = shelter.read({\"animal_id\": \"TEST001\"})\n",
    "print(\"After UPDATE:\", updated_docs)\n",
    "\n",
    "# Test DELETE\n",
    "deleted_count = shelter.delete({\"animal_id\": \"TEST001\"})\n",
    "print(\"DELETE removed count:\", deleted_count)\n",
    "\n",
    "# Confirm the delete\n",
    "post_delete = shelter.read({\"animal_id\": \"TEST001\"})\n",
    "print(\"After DELETE:\", post_delete)\n"
   ]
  },
  {
   "cell_type": "code",
   "execution_count": null,
   "id": "e84e9d36",
   "metadata": {},
   "outputs": [],
   "source": []
  },
  {
   "cell_type": "code",
   "execution_count": null,
   "id": "20723314",
   "metadata": {},
   "outputs": [],
   "source": []
  }
 ],
 "metadata": {
  "kernelspec": {
   "display_name": "Python 3 (ipykernel)",
   "language": "python",
   "name": "python3"
  },
  "language_info": {
   "codemirror_mode": {
    "name": "ipython",
    "version": 3
   },
   "file_extension": ".py",
   "mimetype": "text/x-python",
   "name": "python",
   "nbconvert_exporter": "python",
   "pygments_lexer": "ipython3",
   "version": "3.9.12"
  }
 },
 "nbformat": 4,
 "nbformat_minor": 5
}
